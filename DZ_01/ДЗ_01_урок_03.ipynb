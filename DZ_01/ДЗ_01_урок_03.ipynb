{
  "cells": [
    {
      "cell_type": "code",
      "execution_count": 1,
      "metadata": {
        "colab": {
          "base_uri": "https://localhost:8080/"
        },
        "id": "7C0i5V67b41y",
        "outputId": "3ddc35e5-d312-4cde-e8b9-e169386c9d11"
      },
      "outputs": [
        {
          "output_type": "stream",
          "name": "stdout",
          "text": [
            "Collecting gymnasium\n",
            "  Downloading gymnasium-0.29.1-py3-none-any.whl (953 kB)\n",
            "\u001b[2K     \u001b[90m━━━━━━━━━━━━━━━━━━━━━━━━━━━━━━━━━━━━━━━\u001b[0m \u001b[32m953.9/953.9 kB\u001b[0m \u001b[31m6.2 MB/s\u001b[0m eta \u001b[36m0:00:00\u001b[0m\n",
            "\u001b[?25hRequirement already satisfied: numpy>=1.21.0 in /usr/local/lib/python3.10/dist-packages (from gymnasium) (1.23.5)\n",
            "Requirement already satisfied: cloudpickle>=1.2.0 in /usr/local/lib/python3.10/dist-packages (from gymnasium) (2.2.1)\n",
            "Requirement already satisfied: typing-extensions>=4.3.0 in /usr/local/lib/python3.10/dist-packages (from gymnasium) (4.7.1)\n",
            "Collecting farama-notifications>=0.0.1 (from gymnasium)\n",
            "  Downloading Farama_Notifications-0.0.4-py3-none-any.whl (2.5 kB)\n",
            "Installing collected packages: farama-notifications, gymnasium\n",
            "Successfully installed farama-notifications-0.0.4 gymnasium-0.29.1\n"
          ]
        }
      ],
      "source": [
        "!pip install gymnasium\n",
        "import numpy as np\n",
        "import matplotlib.pyplot as plt\n",
        "import gymnasium as gym\n",
        "\n",
        "import warnings\n",
        "warnings.filterwarnings('ignore')"
      ]
    },
    {
      "cell_type": "code",
      "execution_count": 2,
      "metadata": {
        "id": "kCp9PCJCb41z",
        "outputId": "c591ed2a-de61-4d68-b8c6-2e8d4c3206aa",
        "colab": {
          "base_uri": "https://localhost:8080/",
          "height": 35
        }
      },
      "outputs": [
        {
          "output_type": "execute_result",
          "data": {
            "text/plain": [
              "'0.29.1'"
            ],
            "application/vnd.google.colaboratory.intrinsic+json": {
              "type": "string"
            }
          },
          "metadata": {},
          "execution_count": 2
        }
      ],
      "source": [
        "gym.__version__"
      ]
    },
    {
      "cell_type": "markdown",
      "metadata": {
        "id": "RSipuD5wb411"
      },
      "source": [
        "# Enviroment"
      ]
    },
    {
      "cell_type": "markdown",
      "metadata": {
        "id": "1ZqNHftOb412"
      },
      "source": [
        "![taxi.gif](https://www.gymlibrary.dev/_images/taxi.gif)"
      ]
    },
    {
      "cell_type": "markdown",
      "metadata": {
        "id": "1L0RDVrpb412"
      },
      "source": [
        "https://www.gymlibrary.dev/environments/toy_text/taxi/"
      ]
    },
    {
      "cell_type": "markdown",
      "metadata": {
        "id": "4psTkKVxb412"
      },
      "source": [
        "В среде Taxi должно забирать пассажиров и доставлять их в пункт назначения на небольшой стоянке, двигаясь по кратчайшему пути."
      ]
    },
    {
      "cell_type": "markdown",
      "metadata": {
        "id": "LPMRdI7mb413"
      },
      "source": [
        "## $\\varepsilon$-Greedy Policy:\n",
        "$$\n",
        "\\begin{array}{l}\n",
        "\\pi(a|s) =\n",
        "\\left\\{\n",
        "\\begin{array}{ll}\n",
        "1 - \\varepsilon + \\varepsilon / m,& \\text{ если } a \\in \\mathrm{argmax}_{a' \\in \\mathcal{A}}\\, Q(s,a'),\\\\\n",
        "\\varepsilon / m,& \\text{ иначе }\n",
        "\\end{array}\n",
        "\\right.\n",
        "\\end{array}\n",
        "$$"
      ]
    },
    {
      "cell_type": "code",
      "execution_count": 3,
      "metadata": {
        "ExecuteTime": {
          "end_time": "2020-11-12T11:19:37.246247Z",
          "start_time": "2020-11-12T11:19:37.229583Z"
        },
        "id": "8WK_SHGmb413"
      },
      "outputs": [],
      "source": [
        "def get_epsilon_greedy_action(q_values, epsilon, action_n):\n",
        "\n",
        "    policy = np.ones(action_n) * epsilon / action_n\n",
        "    max_action = np.argmax(q_values)\n",
        "    policy[max_action] += 1 - epsilon\n",
        "\n",
        "    return np.random.choice(np.arange(action_n), p=policy)"
      ]
    },
    {
      "cell_type": "markdown",
      "metadata": {
        "id": "FqPBTZWFb415"
      },
      "source": [
        "## Solving \"Taxi\" enviroment with Q-learning method"
      ]
    },
    {
      "cell_type": "markdown",
      "metadata": {
        "id": "Gj2h38iLb417"
      },
      "source": [
        "### Q-Learning Algorithm\n",
        "\n",
        "Пусть $Q(s,a) = 0$ и $\\varepsilon = 1$.\n",
        "\n",
        "Для каждого эпизода $k$ делаем:\n",
        "\n",
        "Пока эпизод не закончен делаем:\n",
        "\n",
        "1. Находясь в состоянии $S_t$ совершаем действие $A_t \\sim \\pi(\\cdot|S_t)$,\n",
        "где $\\pi = \\varepsilon\\text{-greedy}(Q)$, получаем награду $R_t$  переходим в состояние $S_{t+1}$.\n",
        "\n",
        "2. По $(S_t,A_t,R_t,S_{t+1})$ обновляем $Q$:\n",
        "$$\n",
        "Q(S_t,A_t) \\leftarrow Q(S_t,A_t) + \\alpha(R_t + \\gamma \\max\\limits_{a'} Q(S_{t+1},a') - Q(S_t,A_t))\n",
        "$$\n",
        "\n",
        "для Q-learning    Q(St,At)←Q(St,At)+α(Rt+γQ(St+1,At+1)−Q(St,At))\n",
        "\n",
        "Уменьшаем $\\varepsilon$"
      ]
    },
    {
      "cell_type": "markdown",
      "source": [
        "# Домашнее задание №1 . Суть (настройки):\n",
        "\n",
        ">На основе материалов лекции и основываясь на реализации алгоритма SARSA, приведенного в практической части занятия, реализовать алгоритм Q-learning на той же среде \"Taxi\", которая использовалась на практической части вебинара. В коде используется одна d внешняя функция = \"ε -Greedy Policy\"\n",
        "\n",
        "> ============================================\n",
        "\n",
        ">Описание/Пошаговая инструкция выполнения домашнего задания:\n",
        "Реализовать алгоритм Монте-Карло в виде функции принимающей на вход:\n",
        "* env - окружение,\n",
        "* episode_n - число эпизодов обучения,\n",
        "* gamma=0.99 - гиперпараметр модели,\n",
        "* trajectory_len=500 - длина траектории,\n",
        "* alpha=0.5 - скорость обучения\n",
        "* Запустить цикл обучения и получить график суммарной награды в зависимости от количества эпизодов обучения, т.е визуализацию обучения модели."
      ],
      "metadata": {
        "id": "0fyddyTXk9t8"
      }
    },
    {
      "cell_type": "code",
      "execution_count": 7,
      "metadata": {
        "ExecuteTime": {
          "end_time": "2020-11-12T12:09:41.196865Z",
          "start_time": "2020-11-12T12:09:41.185519Z"
        },
        "id": "x-Akw3MBb417"
      },
      "outputs": [],
      "source": [
        "env = gym.make(\"Taxi-v3\")\n",
        "\n",
        "#def SARSA(env, episode_n, gamma=0.99, trajectory_len=500, alpha=0.5):\n",
        "def QLearning(env, episode_n, trajectory_len, gamma=0.99, t_max=500, alpha=0.5):\n",
        "    total_rewards = np.zeros(episode_n)  # Создаем массив для хранения общих вознаграждений для каждого эпизода\n",
        "\n",
        "    state_n = env.observation_space.n  # Получаем количество состояний в среде\n",
        "    action_n = env.action_space.n  # Получаем количество действий в среде\n",
        "    qfunction = np.zeros((state_n, action_n))  # Создаем Q-функцию (матрицу состояние-действие) и инициализируем её нулями\n",
        "\n",
        "    for episode in range(episode_n):  # Запускаем цикл для каждого эпизода\n",
        "        epsilon = 1 / (episode + 1)  # Уменьшаем параметр epsilon для epsilon-жадной стратегии с каждым эпизодом\n",
        "\n",
        "        state = env.reset()[0]  # Сбрасываем среду и получаем начальное состояние\n",
        "        action = get_epsilon_greedy_action(qfunction[state], epsilon, action_n)  # Получаем действие с использованием epsilon-жадной стратегии\n",
        "\n",
        "        for _ in range(trajectory_len):  # Запускаем цикл для каждого шага внутри эпизода (ограниченного trajectory_len)\n",
        "            next_state, reward, done, _, _ = env.step(action)  # Выполняем выбранное действие и получаем следующее состояние, вознаграждение и флаг завершения\n",
        "            next_action = get_epsilon_greedy_action(qfunction[next_state], epsilon, action_n)  # Получаем следующее действие с использованием epsilon-жадной стратегии\n",
        "\n",
        "            next_max = np.max(qfunction[next_state])\n",
        "\n",
        "            # -->>> меняем вот эту строку и всё !!!!\n",
        "            #  qfunction[state][action] += alpha * (reward + gamma * qfunction[next_state][next_action] - qfunction[state][action])  # Обновляем Q-функцию согласно формуле метода SARSA\n",
        "\n",
        "            qfunction[state][action] += alpha * (reward + gamma * next_max - qfunction[state][action])  # Обновляем Q-функцию согласно формуле метода QLearning\n",
        "\n",
        "            state = next_state  # Переходим в следующее состояние\n",
        "            action = next_action  # Переходим в следующее действие\n",
        "\n",
        "            total_rewards[episode] += reward  # Добавляем полученное вознаграждение к общему вознаграждению текущего эпизода\n",
        "\n",
        "            if done:  # Если эпизод завершился, выходим из цикла\n",
        "                break\n",
        "\n",
        "    return total_rewards  # Возвращаем массив общих вознаграждений для каждого эпизода"
      ]
    },
    {
      "cell_type": "code",
      "execution_count": 11,
      "metadata": {
        "ExecuteTime": {
          "end_time": "2020-11-12T12:10:00.588790Z",
          "start_time": "2020-11-12T12:09:52.816239Z"
        },
        "id": "dUXL6IUBb417",
        "colab": {
          "base_uri": "https://localhost:8080/",
          "height": 604
        },
        "outputId": "974cf7ac-2ea9-47a1-bd6b-0af67a462a0f"
      },
      "outputs": [
        {
          "output_type": "stream",
          "name": "stdout",
          "text": [
            "[-1976. -1526. -1508.  -840. -1047. -1544. -1175.  -328. -1355. -1490.\n",
            "  -971.  -585. -1217.  -643.  -152.  -398. -1580.  -397.   -50.  -173.\n",
            " -1364. -1526. -1157.  -743.  -321.  -118.  -134.  -117.     7.  -378.\n",
            "   -64.  -191.  -126.  -202.  -932.   -94.  -140.   -95.  -266.  -296.\n",
            "  -361.  -104.  -188.   -63.   -59.  -185.  -117.  -157.  -128.  -131.\n",
            "  -280.  -297.  -261.  -155.  -120.   -12.  -276.  -144.   -98.   -89.\n",
            "   -10.   -30.  -173.  -114.   -99.  -208.  -159.  -153.  -172.  -265.\n",
            "   -98.  -130.   -74.   -97.  -123.  -149.    13.  -142.   -42.   -26.\n",
            "  -174.   -42.  -253.  -164.    12.   -29.   -91.   -12.    14.    -7.\n",
            "   -38.  -247.    10.   -16.  -164.   -33.   -67.  -122.    -2.  -159.]\n"
          ]
        },
        {
          "output_type": "display_data",
          "data": {
            "text/plain": [
              "<Figure size 640x480 with 1 Axes>"
            ],
            "image/png": "[encoded data removed]"
          },
          "metadata": {}
        }
      ],
      "source": [
        "total_rewards = QLearning(env, episode_n=500, trajectory_len=500, t_max=1000, gamma=0.99, alpha=0.5)\n",
        "\n",
        "print(total_rewards[:100])\n",
        "\n",
        "plt.plot(total_rewards)\n",
        "plt.show()"
      ]
    }
  ],
  "metadata": {
    "hide_input": false,
    "kernelspec": {
      "display_name": "Python 3",
      "name": "python3"
    },
    "language_info": {
      "codemirror_mode": {
        "name": "ipython",
        "version": 3
      },
      "file_extension": ".py",
      "mimetype": "text/x-python",
      "name": "python",
      "nbconvert_exporter": "python",
      "pygments_lexer": "ipython3",
      "version": "3.10.8"
    },
    "toc": {
      "base_numbering": 1,
      "nav_menu": {},
      "number_sections": true,
      "sideBar": true,
      "skip_h1_title": false,
      "title_cell": "Table of Contents",
      "title_sidebar": "Contents",
      "toc_cell": false,
      "toc_position": {},
      "toc_section_display": true,
      "toc_window_display": false
    },
    "varInspector": {
      "cols": {
        "lenName": 16,
        "lenType": 16,
        "lenVar": 40
      },
      "kernels_config": {
        "python": {
          "delete_cmd_postfix": "",
          "delete_cmd_prefix": "del ",
          "library": "var_list.py",
          "varRefreshCmd": "print(var_dic_list())"
        },
        "r": {
          "delete_cmd_postfix": ") ",
          "delete_cmd_prefix": "rm(",
          "library": "var_list.r",
          "varRefreshCmd": "cat(var_dic_list()) "
        }
      },
      "types_to_exclude": [
        "module",
        "function",
        "builtin_function_or_method",
        "instance",
        "_Feature"
      ],
      "window_display": false
    },
    "colab": {
      "provenance": []
    }
  },
  "nbformat": 4,
  "nbformat_minor": 0
}